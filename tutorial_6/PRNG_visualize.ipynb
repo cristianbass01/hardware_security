{
 "cells": [
  {
   "cell_type": "code",
   "execution_count": 2,
   "metadata": {},
   "outputs": [],
   "source": [
    "import matplotlib.pyplot as plt\n",
    "from matplotlib import cm\n",
    "import numpy as np\n",
    "import sys"
   ]
  },
  {
   "cell_type": "code",
   "execution_count": 14,
   "metadata": {},
   "outputs": [],
   "source": [
    "def extract_bytes(value):\n",
    "    '''\n",
    "    value=32 bit integer\n",
    "    returns an array of 4 bytes extracted from value\n",
    "    '''\n",
    "    byte_array=[]\n",
    "    while value !=0:\n",
    "        byte_array.append(value&0xff)\n",
    "        value=value>>8\n",
    "    return byte_array\n",
    "\n",
    "def initialize_byte_dictionary(d):\n",
    "    '''\n",
    "    creates an empty dictionary of 256 values\n",
    "    '''\n",
    "    for i in range(256):\n",
    "        d[i]=0\n",
    "    return d\n",
    "    \n",
    "def process_data_in_file(file,d):\n",
    "    '''\n",
    "    file= a file containing 32-bit values integers\n",
    "    d= a 256 value dictionary\n",
    "    returns d= contains dictionary d which contains the frequency table of the bytes in file \n",
    "    '''\n",
    "    file_test = open(file, \"r\") \n",
    "    content = file_test.readlines()\n",
    "    random_data=[]\n",
    "    for i,line in enumerate(content):\n",
    "        #print(i)\n",
    "        if i > 5:\n",
    "            random_data.append(int(line))\n",
    "   \n",
    "    #print(len(random_data))\n",
    "    initialize_byte_dictionary(d)\n",
    "    count_bytes=0\n",
    "    for data in random_data:\n",
    "        bytes_data=extract_bytes(data)\n",
    "        for b in bytes_data:\n",
    "            count_bytes+=1\n",
    "            d[b]+=1\n",
    "    return d, count_bytes\n",
    "    "
   ]
  },
  {
   "cell_type": "code",
   "execution_count": 29,
   "metadata": {},
   "outputs": [],
   "source": [
    "def calc_and_plot(file):\n",
    "  dict_bytes={}\n",
    "  dict_bytes, count_bytes=process_data_in_file(file, dict_bytes)\n",
    "  plt.bar(range(len(dict_bytes)), list(dict_bytes.values()), color = 'pink')\n",
    "  plt.savefig(file[:-4]+'.png')\n",
    "  plt.show()\n"
   ]
  },
  {
   "cell_type": "code",
   "execution_count": 30,
   "metadata": {},
   "outputs": [
    {
     "data": {
      "image/png": "[encoded data removed]",
      "text/plain": [
       "<Figure size 640x480 with 1 Axes>"
      ]
     },
     "metadata": {},
     "output_type": "display_data"
    }
   ],
   "source": [
    "calc_and_plot('20k_AES_OFB.txt')"
   ]
  },
  {
   "cell_type": "code",
   "execution_count": 31,
   "metadata": {},
   "outputs": [
    {
     "data": {
      "image/png": "[encoded data removed]",
      "text/plain": [
       "<Figure size 640x480 with 1 Axes>"
      ]
     },
     "metadata": {},
     "output_type": "display_data"
    }
   ],
   "source": [
    "\n",
    "calc_and_plot('20k_randu.txt')\n"
   ]
  },
  {
   "cell_type": "code",
   "execution_count": 43,
   "metadata": {},
   "outputs": [],
   "source": [
    "import math\n",
    "\n",
    "def min_entropy(probabilities):\n",
    "    \"\"\"\n",
    "    Calculate the min-entropy using the probabilities.\n",
    "    \"\"\"\n",
    "    max_prob = max(probabilities.values())\n",
    "    return math.log2(1/max_prob)\n",
    "\n",
    "def shannon_entropy(probabilities):\n",
    "    \"\"\"\n",
    "    Calculate the Shannon entropy using the probabilities.\n",
    "    \"\"\"\n",
    "    entropy = -sum(p * math.log2(p) for p in probabilities.values() if p > 0)\n",
    "    return entropy\n",
    "\n",
    "def analyze_file(file_path):\n",
    "    \"\"\"\n",
    "    Analyze the file to calculate min-entropy and Shannon entropy.\n",
    "    \"\"\"\n",
    "\n",
    "    frequencies, total_count = process_data_in_file(file_path, {})\n",
    "    probabilities = {byte: count / total_count for byte, count in frequencies.items()}\n",
    "    min_ent = min_entropy(probabilities)\n",
    "    shannon_ent = shannon_entropy(probabilities)\n",
    "\n",
    "    return min_ent, shannon_ent"
   ]
  },
  {
   "cell_type": "code",
   "execution_count": 50,
   "metadata": {},
   "outputs": [
    {
     "name": "stdout",
     "output_type": "stream",
     "text": [
      "Min-Entropy: 0.9708 bits\n",
      "Shannon Entropy: 0.9997 bits\n"
     ]
    }
   ],
   "source": [
    "file_path = \"test_20k_AES_OFB.txt\"\n",
    "\n",
    "min_ent, shannon_ent = analyze_file(file_path)\n",
    "print(f\"Min-Entropy: {min_ent/8:.4f} bits\")\n",
    "print(f\"Shannon Entropy: {shannon_ent/8:.4f} bits\")"
   ]
  },
  {
   "cell_type": "code",
   "execution_count": 52,
   "metadata": {},
   "outputs": [
    {
     "name": "stdout",
     "output_type": "stream",
     "text": [
      "Min-Entropy: 0.8654 bits\n",
      "Shannon Entropy: 0.9784 bits\n"
     ]
    }
   ],
   "source": [
    "file_path = \"test_20k_randu.txt\"\n",
    "\n",
    "min_ent, shannon_ent = analyze_file(file_path)\n",
    "print(f\"Min-Entropy: {min_ent/8:.4f} bits\")\n",
    "print(f\"Shannon Entropy: {shannon_ent/8:.4f} bits\")"
   ]
  },
  {
   "cell_type": "code",
   "execution_count": 59,
   "metadata": {},
   "outputs": [],
   "source": [
    "from collections import Counter\n",
    "\n",
    "def analyze_file_per_bit(file_path):\n",
    "    \"\"\"\n",
    "    Analyze the file to calculate min-entropy and Shannon entropy.\n",
    "    \"\"\"\n",
    "\n",
    "    byte_frequencies, byte_total_count = process_data_in_file(file_path, {})\n",
    "\n",
    "    bit_frequencies = Counter()\n",
    "    for byte, count in byte_frequencies.items():\n",
    "        bits = bin(byte)[2:].zfill(8)\n",
    "        for bit in bits:\n",
    "            bit_frequencies[int(bit)] += count  \n",
    "            \n",
    "    bit_total_count = byte_total_count * 8\n",
    "\n",
    "    probabilities = {bit: count / bit_total_count for bit, count in bit_frequencies.items()}\n",
    "\n",
    "    min_ent = min_entropy(probabilities)\n",
    "    shannon_ent = shannon_entropy(probabilities)\n",
    "\n",
    "    return min_ent, shannon_ent"
   ]
  },
  {
   "cell_type": "code",
   "execution_count": 60,
   "metadata": {},
   "outputs": [
    {
     "name": "stdout",
     "output_type": "stream",
     "text": [
      "Min-Entropy: 0.9977 bits\n",
      "Shannon Entropy: 1.0000 bits\n"
     ]
    }
   ],
   "source": [
    "file_path = \"test_20k_AES_OFB.txt\"\n",
    "\n",
    "min_ent, shannon_ent = analyze_file_per_bit(file_path)\n",
    "print(f\"Min-Entropy: {min_ent:.4f} bits\")\n",
    "print(f\"Shannon Entropy: {shannon_ent:.4f} bits\")"
   ]
  },
  {
   "cell_type": "code",
   "execution_count": 61,
   "metadata": {},
   "outputs": [
    {
     "name": "stdout",
     "output_type": "stream",
     "text": [
      "Min-Entropy: 0.9558 bits\n",
      "Shannon Entropy: 0.9993 bits\n"
     ]
    }
   ],
   "source": [
    "file_path = \"test_20k_randu.txt\"\n",
    "\n",
    "min_ent, shannon_ent = analyze_file_per_bit(file_path)\n",
    "print(f\"Min-Entropy: {min_ent:.4f} bits\")\n",
    "print(f\"Shannon Entropy: {shannon_ent:.4f} bits\")"
   ]
  }
 ],
 "metadata": {
  "kernelspec": {
   "display_name": "hardware",
   "language": "python",
   "name": "python3"
  },
  "language_info": {
   "codemirror_mode": {
    "name": "ipython",
    "version": 3
   },
   "file_extension": ".py",
   "mimetype": "text/x-python",
   "name": "python",
   "nbconvert_exporter": "python",
   "pygments_lexer": "ipython3",
   "version": "3.11.10"
  }
 },
 "nbformat": 4,
 "nbformat_minor": 4
}
