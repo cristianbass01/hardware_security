{
 "cells": [
  {
   "cell_type": "code",
   "execution_count": 1,
   "metadata": {},
   "outputs": [],
   "source": [
    "import matplotlib.pyplot as plt\n",
    "from matplotlib import cm\n",
    "import numpy as np\n",
    "import sys"
   ]
  },
  {
   "cell_type": "code",
   "execution_count": 2,
   "metadata": {},
   "outputs": [],
   "source": [
    "def extract_bytes(value):\n",
    "    '''\n",
    "    value=32 bit integer\n",
    "    returns an array of 4 bytes extracted from value\n",
    "    '''\n",
    "    byte_array=[]\n",
    "    while value !=0:\n",
    "        byte_array.append(value&0xff)\n",
    "        value=value>>8\n",
    "    return byte_array\n",
    "\n",
    "def initialize_byte_dictionary(d):\n",
    "    '''\n",
    "    creates an empty dictionary of 256 values\n",
    "    '''\n",
    "    for i in range(256):\n",
    "        d[i]=0\n",
    "    return d\n",
    "    \n",
    "def process_data_in_file(file,d):\n",
    "    '''\n",
    "    file= a file containing 32-bit values integers\n",
    "    d= a 256 value dictionary\n",
    "    returns d= contains dictionary d which contains the frequency table of the bytes in file \n",
    "    '''\n",
    "    file_test = open(filename, \"r\") \n",
    "    content = file_test.readlines()\n",
    "    random_data=[]\n",
    "    for i,line in enumerate(content):\n",
    "        #print(i)\n",
    "        if i > 5:\n",
    "            random_data.append(int(line))\n",
    "   \n",
    "    print(len(random_data))\n",
    "    initialize_byte_dictionary(d)\n",
    "    count_bytes=0\n",
    "    for data in random_data:\n",
    "        bytes_data=extract_bytes(data)\n",
    "        for b in bytes_data:\n",
    "            count_bytes+=1\n",
    "            d[b]+=1\n",
    "    return d, count_bytes\n",
    "    "
   ]
  },
  {
   "cell_type": "code",
   "execution_count": 3,
   "metadata": {},
   "outputs": [
    {
     "name": "stdout",
     "output_type": "stream",
     "text": [
      "20000\n",
      "79858\n"
     ]
    }
   ],
   "source": [
    "filename='test_20k_randu.txt'\n",
    "dict_bytes_AES={}\n",
    "dict_bytes_AES, count_bytes_AES=process_data_in_file(filename,dict_bytes_AES)\n",
    "print(count_bytes_AES)"
   ]
  },
  {
   "cell_type": "code",
   "execution_count": 4,
   "metadata": {},
   "outputs": [
    {
     "data": {
      "image/png": "[encoded data removed]",
      "text/plain": [
       "<Figure size 432x288 with 1 Axes>"
      ]
     },
     "metadata": {
      "needs_background": "light"
     },
     "output_type": "display_data"
    }
   ],
   "source": [
    "plt.bar(range(len(dict_bytes_AES)), list(dict_bytes_AES.values()), color = 'pink')\n",
    "plt.savefig('randu.png')\n",
    "plt.show()\n"
   ]
  },
  {
   "cell_type": "code",
   "execution_count": null,
   "metadata": {},
   "outputs": [],
   "source": []
  },
  {
   "cell_type": "code",
   "execution_count": null,
   "metadata": {},
   "outputs": [],
   "source": []
  }
 ],
 "metadata": {
  "kernelspec": {
   "display_name": "Python 3",
   "language": "python",
   "name": "python3"
  },
  "language_info": {
   "codemirror_mode": {
    "name": "ipython",
    "version": 3
   },
   "file_extension": ".py",
   "mimetype": "text/x-python",
   "name": "python",
   "nbconvert_exporter": "python",
   "pygments_lexer": "ipython3",
   "version": "3.8.5"
  }
 },
 "nbformat": 4,
 "nbformat_minor": 4
}
